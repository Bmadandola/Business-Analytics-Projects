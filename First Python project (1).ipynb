{
 "cells": [
  {
   "cell_type": "code",
   "execution_count": 3,
   "id": "7d789088-11c6-4279-97cb-34eec25bda84",
   "metadata": {
    "collapsed": true,
    "jupyter": {
     "outputs_hidden": true
    }
   },
   "outputs": [
    {
     "name": "stdout",
     "output_type": "stream",
     "text": [
      "Both are what you want\n"
     ]
    }
   ],
   "source": [
    "x = 10\n",
    "y = 20\n",
    "if x == 10 and y == 20:\n",
    "    print('Both are what you want')"
   ]
  },
  {
   "cell_type": "code",
   "execution_count": 5,
   "id": "d83e0995-6481-471a-a6ab-0fe2ed239b5b",
   "metadata": {},
   "outputs": [
    {
     "data": {
      "text/plain": [
       "True"
      ]
     },
     "execution_count": 5,
     "metadata": {},
     "output_type": "execute_result"
    }
   ],
   "source": [
    "True and True"
   ]
  },
  {
   "cell_type": "code",
   "execution_count": 7,
   "id": "8b06e0b2-37a2-43c4-be26-713848b92eb6",
   "metadata": {},
   "outputs": [
    {
     "data": {
      "text/plain": [
       "False"
      ]
     },
     "execution_count": 7,
     "metadata": {},
     "output_type": "execute_result"
    }
   ],
   "source": [
    "True and False"
   ]
  },
  {
   "cell_type": "code",
   "execution_count": 9,
   "id": "98d6b4ab-5206-4ae0-b21d-9c8a2cd02894",
   "metadata": {},
   "outputs": [
    {
     "data": {
      "text/plain": [
       "False"
      ]
     },
     "execution_count": 9,
     "metadata": {},
     "output_type": "execute_result"
    }
   ],
   "source": [
    "False and False"
   ]
  },
  {
   "cell_type": "code",
   "execution_count": 11,
   "id": "089bfff2-65c5-4ae4-b821-31d17d3ef8d8",
   "metadata": {},
   "outputs": [
    {
     "data": {
      "text/plain": [
       "float"
      ]
     },
     "execution_count": 11,
     "metadata": {},
     "output_type": "execute_result"
    }
   ],
   "source": [
    "x = 100.0\n",
    "type(x)"
   ]
  },
  {
   "cell_type": "code",
   "execution_count": 13,
   "id": "2c25efbc-0658-4e55-96b2-a1e6edff344d",
   "metadata": {},
   "outputs": [
    {
     "data": {
      "text/plain": [
       "0.30000000000000004"
      ]
     },
     "execution_count": 13,
     "metadata": {},
     "output_type": "execute_result"
    }
   ],
   "source": [
    "0.1 + 0.2"
   ]
  },
  {
   "cell_type": "code",
   "execution_count": 15,
   "id": "08daa840-79a0-49f5-a9b2-2d62ff101354",
   "metadata": {},
   "outputs": [
    {
     "data": {
      "text/plain": [
       "123.0"
      ]
     },
     "execution_count": 15,
     "metadata": {},
     "output_type": "execute_result"
    }
   ],
   "source": [
    "s = 123\n",
    "float(s)"
   ]
  },
  {
   "cell_type": "code",
   "execution_count": 17,
   "id": "270d1ed4-d085-4da1-ae30-40ecfd1aaad3",
   "metadata": {},
   "outputs": [
    {
     "data": {
      "text/plain": [
       "123.0"
      ]
     },
     "execution_count": 17,
     "metadata": {},
     "output_type": "execute_result"
    }
   ],
   "source": [
    "s = 123.45\n",
    "float(int(s))"
   ]
  },
  {
   "cell_type": "code",
   "execution_count": 19,
   "id": "2dce68de-31c1-4051-bec9-a39675347289",
   "metadata": {},
   "outputs": [
    {
     "data": {
      "text/plain": [
       "complex"
      ]
     },
     "execution_count": 19,
     "metadata": {},
     "output_type": "execute_result"
    }
   ],
   "source": [
    "z = 5j\n",
    "type(z)"
   ]
  },
  {
   "cell_type": "code",
   "execution_count": 21,
   "id": "4468fb1c-8722-49ce-b4b1-1b9c28381d97",
   "metadata": {},
   "outputs": [
    {
     "data": {
      "text/plain": [
       "9"
      ]
     },
     "execution_count": 21,
     "metadata": {},
     "output_type": "execute_result"
    }
   ],
   "source": [
    "w = 8\n",
    "w = w + 1\n",
    "w"
   ]
  },
  {
   "cell_type": "code",
   "execution_count": 23,
   "id": "1d441e9e-64f5-4540-b2df-4c0857965347",
   "metadata": {},
   "outputs": [
    {
     "data": {
      "text/plain": [
       "10"
      ]
     },
     "execution_count": 23,
     "metadata": {},
     "output_type": "execute_result"
    }
   ],
   "source": [
    "w+=1\n",
    "w"
   ]
  },
  {
   "cell_type": "code",
   "execution_count": 25,
   "id": "e3d0d250-56ae-4180-86e9-66d4fb98eb75",
   "metadata": {},
   "outputs": [
    {
     "data": {
      "text/plain": [
       "12"
      ]
     },
     "execution_count": 25,
     "metadata": {},
     "output_type": "execute_result"
    }
   ],
   "source": [
    "w+=2\n",
    "w"
   ]
  },
  {
   "cell_type": "code",
   "execution_count": 31,
   "id": "18faa80c-bef9-4c29-bb27-d49c5abf0a8c",
   "metadata": {},
   "outputs": [
    {
     "name": "stdin",
     "output_type": "stream",
     "text": [
      "How far did you run 5\n",
      "How many minutes did it take 10\n"
     ]
    },
    {
     "name": "stdout",
     "output_type": "stream",
     "text": [
      "You ran at 0.5 km/m\n"
     ]
    }
   ],
   "source": [
    "distance = input('How far did you run')\n",
    "minutes = input('How many minutes did it take')\n",
    "pace = int(distance)/int(minutes)\n",
    "print(f'You ran at {pace} km/m')\n"
   ]
  },
  {
   "cell_type": "code",
   "execution_count": 33,
   "id": "641bb9d0-05da-410c-9614-df3c246a52ec",
   "metadata": {},
   "outputs": [
    {
     "name": "stdout",
     "output_type": "stream",
     "text": [
      "x = 10\n",
      "x = 10. but x*2 = 20\n"
     ]
    }
   ],
   "source": [
    "s = 'ghcvfdvbdfvjh'\n",
    "len(s)\n",
    "s[5]\n",
    "x = 10\n",
    "print(f'x = {x}')\n",
    "print(f'x = {x}. but x*2 = {x*2}')"
   ]
  },
  {
   "cell_type": "code",
   "execution_count": 35,
   "id": "06c03708-9469-4955-ad19-b0019e8d7703",
   "metadata": {},
   "outputs": [
    {
     "name": "stdin",
     "output_type": "stream",
     "text": [
      "how many pages you read 2\n",
      "how many minutes did it take 5\n"
     ]
    },
    {
     "name": "stdout",
     "output_type": "stream",
     "text": [
      "your reading 0.4 is pg/m\n"
     ]
    }
   ],
   "source": [
    "pages = input('how many pages you read')\n",
    "time = input('how many minutes did it take')\n",
    "speed = int(pages)/int(time)\n",
    "print(f'your reading {speed} is pg/m')\n"
   ]
  },
  {
   "cell_type": "code",
   "execution_count": 39,
   "id": "70064c09-e4b3-4aff-a7df-fb30c32e4016",
   "metadata": {},
   "outputs": [
    {
     "name": "stdin",
     "output_type": "stream",
     "text": [
      "enter your name Mike Ross\n"
     ]
    },
    {
     "name": "stdout",
     "output_type": "stream",
     "text": [
      "your name does not end with a vowel\n"
     ]
    }
   ],
   "source": [
    "name = input('enter your name')\n",
    "if name[-1] in 'aeiou':\n",
    "    print(f'your name ends with a vowel')\n",
    "else:\n",
    "    print(f'your name does not end with a vowel')"
   ]
  },
  {
   "cell_type": "code",
   "execution_count": 49,
   "id": "14d572b2-412c-481e-b05e-5e59771ba050",
   "metadata": {},
   "outputs": [
    {
     "name": "stdin",
     "output_type": "stream",
     "text": [
      "enter your name Mike \n",
      "enter a positive integer 2\n"
     ]
    },
    {
     "name": "stdout",
     "output_type": "stream",
     "text": [
      "k\n"
     ]
    }
   ],
   "source": [
    "name = input('enter your name')\n",
    "index = input('enter a positive integer')\n",
    "index = int(index)\n",
    "if index < 0:\n",
    "    print(f'you have entered a negative value')\n",
    "elif index >= len(name):\n",
    "    print(f'the index is too high. The max index is {len(name)-1}')\n",
    "else:\n",
    "    print(f'{name[index]}')\n",
    "    \n"
   ]
  },
  {
   "cell_type": "code",
   "execution_count": null,
   "id": "7c134801-bde9-4e9c-b640-42ba64807c59",
   "metadata": {},
   "outputs": [],
   "source": []
  }
 ],
 "metadata": {
  "kernelspec": {
   "display_name": "Python 3 (ipykernel)",
   "language": "python",
   "name": "python3"
  },
  "language_info": {
   "codemirror_mode": {
    "name": "ipython",
    "version": 3
   },
   "file_extension": ".py",
   "mimetype": "text/x-python",
   "name": "python",
   "nbconvert_exporter": "python",
   "pygments_lexer": "ipython3",
   "version": "3.12.7"
  }
 },
 "nbformat": 4,
 "nbformat_minor": 5
}
